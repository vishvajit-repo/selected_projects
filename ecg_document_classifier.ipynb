{
  "nbformat": 4,
  "nbformat_minor": 0,
  "metadata": {
    "colab": {
      "provenance": []
    },
    "kernelspec": {
      "name": "python3",
      "display_name": "Python 3"
    },
    "language_info": {
      "name": "python"
    }
  },
  "cells": [
    {
      "cell_type": "code",
      "execution_count": null,
      "metadata": {
        "id": "0_X3St0FQcCt"
      },
      "outputs": [],
      "source": [
        "# Importing the Keras libraries and packages\n",
        "from tensorflow.keras.models import Sequential,load_model,model_from_json, Model\n",
        "from tensorflow.keras.layers import Conv2D\n",
        "from tensorflow.keras.layers import MaxPooling2D\n",
        "from tensorflow.keras.layers import Flatten\n",
        "from tensorflow.keras.layers import Dropout\n",
        "from tensorflow.keras.layers import Dense, Input\n",
        "from tensorflow.keras import optimizers\n",
        "from tensorflow.keras import regularizers\n",
        "import numpy as np\n",
        "from PIL import Image\n",
        "import time\n",
        "from tensorflow.keras.callbacks import ModelCheckpoint,ReduceLROnPlateau\n",
        "from tensorflow.keras.preprocessing.image import ImageDataGenerator"
      ]
    },
    {
      "cell_type": "code",
      "source": [
        "#Function if we need to invert image\n",
        "def process_image(img):\n",
        "    return img\n",
        "    #return 1-img"
      ],
      "metadata": {
        "id": "gpZCncW0Qe9k"
      },
      "execution_count": null,
      "outputs": []
    },
    {
      "cell_type": "code",
      "source": [
        "# Initialising the parameter\n",
        "H = 550\n",
        "W = 425\n",
        "nb_train_samples = 353 #181 #32\n",
        "nb_validation_samples = 48\n",
        "epochs = 25\n",
        "batch_size = 8\n",
        "verbose= 1\n",
        "lr = 1e-4"
      ],
      "metadata": {
        "id": "34NqX2EIQfAP"
      },
      "execution_count": null,
      "outputs": []
    },
    {
      "cell_type": "code",
      "source": [
        "\n",
        "# Creating VGG architecture for base line model\n",
        "from tensorflow.keras.applications.vgg16 import VGG16\n",
        "\n",
        "#Initialising the CNN\n",
        "input_layer = Input(shape=(H,W,3))\n",
        "base_model = VGG16(weights='imagenet',include_top= False,input_tensor=input_layer, pooling='avg')\n",
        "\n",
        "\n",
        "top_model = Sequential()\n",
        "top_model.add(Flatten(input_shape=base_model.output_shape[1:]))\n",
        "top_model.add(Dense(512, activation='relu'))\n",
        "top_model.add(Dropout(0.5))\n",
        "top_model.add(Dense(2, activation='softmax'))\n",
        "\n",
        "model = Model(inputs=base_model.input, outputs=top_model(base_model.output))\n",
        "print('No of layers', len(model.layers))\n",
        "print(model.layers)\n",
        "opt = optimizers.Adam(learning_rate=lr)\n",
        "\n",
        "for layer in model.layers[:-6]:\n",
        "    print(layer, layer.trainable)\n",
        "    layer.trainable = False\n",
        ""
      ],
      "metadata": {
        "id": "4lgBYz2fQfDL"
      },
      "execution_count": null,
      "outputs": []
    },
    {
      "cell_type": "code",
      "source": [
        "#Loading previous version of model instead of creating base line model\n",
        "model = load_model(\"/home/mldev/new_models/version_3.2/electrocardiogram.h5\")\n",
        "print('No of layers', len(model.layers))\n",
        "for layer in model.layers[0:6]:\n",
        "    print(layer.trainable)\n",
        "    layer.trainable = True\n",
        "\n",
        "model.compile(loss='categorical_crossentropy',\n",
        "              optimizer=opt,\n",
        "              metrics=['accuracy'])"
      ],
      "metadata": {
        "id": "Q--6cFISQfGP"
      },
      "execution_count": null,
      "outputs": []
    },
    {
      "cell_type": "code",
      "source": [
        "train_datagen = ImageDataGenerator(rescale = 1./255,\n",
        "                                   shear_range=0.1,\n",
        "                                   preprocessing_function = preprocess_image)\n",
        "test_datagen = ImageDataGenerator(rescale = 1./255,\n",
        "                                  preprocessing_function = preprocess_image)\n",
        "\n",
        "X_train_path =\"/mnt/rnd/offshore/page_type/train_data_working/split_balanced_v3_electrocardiogram/train/\"\n",
        "X_val_path = \"/mnt/rnd/offshore/page_type/train_data_working/split_balanced_v3_electrocardiogram/val/\"\n",
        "\n",
        "classes = 'electrocardiogram'\n",
        "\n",
        "training_set = train_datagen.flow_from_directory(X_train_path,\n",
        "                                                target_size = (H,W),\n",
        "                                                batch_size = batch_size,\n",
        "                                                classes = [f'non-{classes}',classes],\n",
        "                                                class_mode = 'categorical')\n",
        "test_set = test_datagen.flow_from_directory(X_val_path,\n",
        "                                                target_size = (H,W),\n",
        "                                                batch_size = batch_size,\n",
        "                                                classes = [f'non-{classes}',classes],\n",
        "                                                class_mode = 'categorical')\n",
        "\n",
        "#checkpoint_filepath = '/home/mldev/train_data_working/model_hw/checkpoints/vgg16_adam/weights.{epoch:03d}-{val_loss:.5f}.h5'\n",
        "checkpoint_filepath = '/mnt/rnd/offshore/page_type/train_data_working/model_electrocardiogram/checkpoints_temp/vgg16_v4.0_weights.{epoch:03d}-{val_loss:.5f}.h5'\n",
        "checkpointer = ModelCheckpoint(filepath=checkpoint_filepath, verbose=verbose, save_best_only=False, save_weights_only=False)"
      ],
      "metadata": {
        "id": "HjCDPVn8QfJH"
      },
      "execution_count": null,
      "outputs": []
    },
    {
      "cell_type": "code",
      "source": [
        "model_ = model.fit(training_set,\n",
        "              steps_per_epoch = nb_train_samples,\n",
        "              epochs= 15,\n",
        "              validation_data = test_set,\n",
        "              validation_steps= nb_validation_samples,callbacks=[checkpointer])\n"
      ],
      "metadata": {
        "id": "R5y29lvjQfMO"
      },
      "execution_count": null,
      "outputs": []
    },
    {
      "cell_type": "code",
      "source": [
        "\n",
        "import pandas as pd\n",
        "\n",
        "df = pd.DataFrame(model_.history)\n",
        "df.index += 1\n",
        "df.plot(figsize=(16,6), xticks=range(1, epochs+1),grid=True)\n"
      ],
      "metadata": {
        "id": "cRQucVvlQfPP"
      },
      "execution_count": null,
      "outputs": []
    },
    {
      "cell_type": "code",
      "source": [
        "\n",
        "# Prediction function\n",
        "\n",
        "def electrocardiogram_prediction(model,img):\n",
        "    img = img/255\n",
        "#   img = invert_image(img)\n",
        "    im=np.expand_dims(img,axis=0)\n",
        "    p=model.predict(im)\n",
        "    return p\n",
        ""
      ],
      "metadata": {
        "id": "pFVz_f90QfSl"
      },
      "execution_count": null,
      "outputs": []
    },
    {
      "cell_type": "code",
      "source": [
        "\n",
        "\n",
        "  # Creating list to append actual output and prediction output\n",
        "label_list = []\n",
        "pred_label_list = []\n",
        "incorrect_preds = []\n",
        "indices = {0: 'non-electrocardiogram', 1: 'electrocardiogram'}\n",
        "\n",
        "#Test data location\n",
        "og_test ='/mnt/rnd/offshore/page_type/train_data_working/split_balanced_v3_electrocardiogram/test/*'\n"
      ],
      "metadata": {
        "id": "XcR5Yx08QfVu"
      },
      "execution_count": null,
      "outputs": []
    },
    {
      "cell_type": "code",
      "source": [
        "\n",
        "# Load model\n",
        "model = load_model(\"/mnt/rnd/offshore/page_type/train_data_working/model_electrocardiogram/checkpoints_temp/vgg16_v4.0_weights.015-0.14895.h5\")\n",
        "\n",
        "# Running prediction for given images in for loop\n",
        "for file_path in glob.glob(og_test):\n",
        "    l=file_path.split('/')[len(file_path.split('/'))-1]\n",
        "    for ff in glob.glob(file_path+'/*')[:500]:\n",
        "        name = ff.split('/')[len(ff.split('/'))-1]\n",
        "        img = cv2.imread(ff)\n",
        "        pred = electrocardiogram_prediction(model,img)\n",
        "        pred_label = indices[pred.argmax()]\n",
        "\n",
        "        label_list.append(l)\n",
        "        pred_label_list.append(pred_label)\n",
        "        if l != pred_label:\n",
        "            incorrect_preds.append(ff)\n",
        "            print(f'File name: {ff}, Score: {pred}')\n",
        "            print(f'Prediction value: {pred_label}, Truth value: {l}\\n\\n\\n')\n",
        ""
      ],
      "metadata": {
        "id": "8YrEVhwmQfYi"
      },
      "execution_count": null,
      "outputs": []
    },
    {
      "cell_type": "code",
      "source": [
        "\n",
        "#Classification report\n",
        "cr = classification_report(label_list, pred_label_list, ['non-electrocardiogram', 'electrocardiogram'])\n",
        "print(cr)\n",
        "#TP/TN/FP/FN values\n",
        "tn, fp, fn, tp = confusion_matrix(label_list, pred_label_list,labels=['non-electrocardiogram', 'electrocardiogram']).ravel()\n",
        "(tn, fp, fn, tp)"
      ],
      "metadata": {
        "id": "MWgGbGgNQfcI"
      },
      "execution_count": null,
      "outputs": []
    },
    {
      "cell_type": "code",
      "source": [],
      "metadata": {
        "id": "zP1MW0dSQffS"
      },
      "execution_count": null,
      "outputs": []
    },
    {
      "cell_type": "code",
      "source": [],
      "metadata": {
        "id": "-TlyJwneQgMy"
      },
      "execution_count": null,
      "outputs": []
    }
  ]
}
